{
 "cells": [
  {
   "cell_type": "markdown",
   "id": "74cc081a",
   "metadata": {},
   "source": [
    "# Hungarian Method for Solving the Assignment Problem"
   ]
  },
  {
   "cell_type": "markdown",
   "id": "038a4ad7",
   "metadata": {},
   "source": [
    "\n",
    "This notebook implements the Hungarian Algorithm for solving the assignment problem (minimization case).\n",
    "The approach follows the classic steps described in operations research and outlined in the provided documentation:\n",
    "1. Create a square cost matrix.\n",
    "2. Subtract row and column minima.\n",
    "3. Make initial assignments.\n",
    "4. Cover all zeros with a minimum number of lines.\n",
    "5. Adjust the matrix if an optimal assignment is not yet possible.\n",
    "6. Repeat until the optimal solution is obtained.\n"
   ]
  },
  {
   "cell_type": "markdown",
   "id": "ca972187",
   "metadata": {},
   "source": [
    "## Step 1: Import Required Library"
   ]
  },
  {
   "cell_type": "code",
   "execution_count": 10,
   "id": "3f46488f",
   "metadata": {},
   "outputs": [],
   "source": [
    "import numpy as np"
   ]
  },
  {
   "cell_type": "markdown",
   "id": "dc899eb9",
   "metadata": {},
   "source": [
    "## Step 2: Define the Hungarian Algorithm Function"
   ]
  },
  {
   "cell_type": "code",
   "execution_count": 11,
   "id": "447653ae",
   "metadata": {},
   "outputs": [],
   "source": [
    "\n",
    "import numpy as np\n",
    "\n",
    "def hungarian_algorithm(cost_matrix):\n",
    "    cost_matrix = np.array(cost_matrix)\n",
    "    n, m = cost_matrix.shape\n",
    "\n",
    "    if n != m:\n",
    "        size = max(n, m)\n",
    "        new_matrix = np.zeros((size, size))\n",
    "        new_matrix[:n, :m] = cost_matrix\n",
    "        cost_matrix = new_matrix\n",
    "        n = m = size\n",
    "\n",
    "    for i in range(n):\n",
    "        cost_matrix[i] -= cost_matrix[i].min()\n",
    "\n",
    "    for j in range(m):\n",
    "        cost_matrix[:, j] -= cost_matrix[:, j].min()\n",
    "\n",
    "    def find_assignments(matrix):\n",
    "        n = len(matrix)\n",
    "        m = len(matrix[0])\n",
    "        assigned = [-1] * m  # assigned[j] = i means row i assigned to column j\n",
    "\n",
    "        def bpm(u, seen, match_r):\n",
    "            for v in range(m):\n",
    "                if matrix[u][v] == 0 and not seen[v]:\n",
    "                    seen[v] = True\n",
    "                    if match_r[v] == -1 or bpm(match_r[v], seen, match_r):\n",
    "                        match_r[v] = u\n",
    "                        return True\n",
    "            return False\n",
    "\n",
    "        match_r = [-1] * m\n",
    "        for u in range(n):\n",
    "            seen = [False] * m\n",
    "            bpm(u, seen, match_r)\n",
    "\n",
    "        result_matrix = np.zeros((n, m), dtype=int)\n",
    "        for j in range(m):\n",
    "            if match_r[j] != -1:\n",
    "                result_matrix[match_r[j], j] = 1\n",
    "        return result_matrix  \n",
    "\n",
    "    def cover_zeros(matrix, assigned):\n",
    "        covered_rows = np.zeros(n, dtype=bool)\n",
    "        covered_cols = np.zeros(m, dtype=bool)\n",
    "        marked_rows = np.zeros(n, dtype=bool)\n",
    "\n",
    "        for i in range(n):\n",
    "            if not any(assigned[i]):\n",
    "                marked_rows[i] = True\n",
    "\n",
    "        changed = True\n",
    "        while changed:\n",
    "            changed = False\n",
    "            for i in range(n):\n",
    "                if marked_rows[i]:\n",
    "                    for j in range(m):\n",
    "                        if matrix[i, j] == 0 and not covered_cols[j]:\n",
    "                            covered_cols[j] = True\n",
    "                            changed = True\n",
    "            for j in range(m):\n",
    "                if covered_cols[j]:\n",
    "                    for i in range(n):\n",
    "                        if assigned[i, j] and not marked_rows[i]:\n",
    "                            marked_rows[i] = True\n",
    "                            changed = True\n",
    "\n",
    "        for i in range(n):\n",
    "            if not marked_rows[i]:\n",
    "                covered_rows[i] = True\n",
    "\n",
    "        return covered_rows, covered_cols\n",
    "\n",
    "    while True:\n",
    "        assigned = find_assignments(cost_matrix)\n",
    "        total_assignments = np.sum(assigned)\n",
    "\n",
    "        if total_assignments == n:\n",
    "            break\n",
    "\n",
    "        covered_rows, covered_cols = cover_zeros(cost_matrix, assigned)\n",
    "\n",
    "        uncovered_values = [\n",
    "            cost_matrix[i, j]\n",
    "            for i in range(n)\n",
    "            for j in range(m)\n",
    "            if not covered_rows[i] and not covered_cols[j]\n",
    "        ]\n",
    "        if not uncovered_values:\n",
    "            break\n",
    "        min_uncovered = min(uncovered_values)\n",
    "\n",
    "        for i in range(n):\n",
    "            for j in range(m):\n",
    "                if not covered_rows[i] and not covered_cols[j]:\n",
    "                    cost_matrix[i, j] -= min_uncovered\n",
    "                elif covered_rows[i] and covered_cols[j]:\n",
    "                    cost_matrix[i, j] += min_uncovered\n",
    "\n",
    "    result = []\n",
    "    for i in range(n):\n",
    "        for j in range(m):\n",
    "            if assigned[i, j] == 1:\n",
    "                result.append((i, j))\n",
    "\n",
    "    return result, cost_matrix"
   ]
  },
  {
   "cell_type": "markdown",
   "id": "660fdd8c",
   "metadata": {},
   "source": [
    "## Step 3: Provide a Cost Matrix and Solve"
   ]
  },
  {
   "cell_type": "code",
   "execution_count": 13,
   "id": "cd7fa2d3",
   "metadata": {},
   "outputs": [
    {
     "name": "stdout",
     "output_type": "stream",
     "text": [
      "Optimal Assignments (row, column):\n",
      "Row 0 -> Column 1\n",
      "Row 1 -> Column 0\n",
      "Row 2 -> Column 4\n",
      "Row 3 -> Column 2\n",
      "Row 4 -> Column 3\n",
      "Total Cost: 23\n"
     ]
    }
   ],
   "source": [
    "\n",
    "# cost_matrix = [\n",
    "#     [90, 75, 75, 80],\n",
    "#     [35, 85, 55, 65],\n",
    "#     [125, 95, 90, 105],\n",
    "#     [45, 110, 95, 115]\n",
    "# ]\n",
    "# cost_matrix = [\n",
    "#     [120, 100, 80],\n",
    "#     [80, 90, 110],\n",
    "#     [110, 140, 120]\n",
    "# ]\n",
    "\n",
    "cost_matrix = [\n",
    "    [10,  5, 13, 15, 16],\n",
    "    [ 3,  9, 18, 13,  6],\n",
    "    [10,  7,  2,  2,  2],\n",
    "    [ 7, 11,  9,  7, 12],\n",
    "    [ 7,  9, 10,  4, 12]\n",
    "]\n",
    "\n",
    "assignments, final_matrix = hungarian_algorithm(cost_matrix)\n",
    "\n",
    "print(\"Optimal Assignments (row, column):\")\n",
    "for row, col in assignments:\n",
    "    print(f\"Row {row} -> Column {col}\")\n",
    "\n",
    "total_cost = sum(cost_matrix[row][col] for row, col in assignments)\n",
    "print(\"Total Cost:\", total_cost)\n"
   ]
  },
  {
   "cell_type": "code",
   "execution_count": null,
   "id": "6fc965e4",
   "metadata": {},
   "outputs": [],
   "source": []
  }
 ],
 "metadata": {
  "kernelspec": {
   "display_name": "ml_env",
   "language": "python",
   "name": "python3"
  },
  "language_info": {
   "codemirror_mode": {
    "name": "ipython",
    "version": 3
   },
   "file_extension": ".py",
   "mimetype": "text/x-python",
   "name": "python",
   "nbconvert_exporter": "python",
   "pygments_lexer": "ipython3",
   "version": "3.10.16"
  }
 },
 "nbformat": 4,
 "nbformat_minor": 5
}
